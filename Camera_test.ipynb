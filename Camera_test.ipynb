{
 "cells": [
  {
   "cell_type": "code",
   "execution_count": 1,
   "metadata": {},
   "outputs": [],
   "source": [
    "from imutils.video import VideoStream\n",
    "from flask import Response, Flask, render_template\n",
    "import threading, datetime, imutils, time, cv2\n",
    "import numpy as np"
   ]
  },
  {
   "cell_type": "code",
   "execution_count": 2,
   "metadata": {},
   "outputs": [],
   "source": [
    "outputFrame = None\n",
    "lock = threading.Lock()\n",
    "app = Flask(__name__)\n",
    "\n",
    "# vs = VideoStream(usePiCamera=1).start()\n",
    "vs = VideoStream(src=0).start()\n",
    "time.sleep(2.0)"
   ]
  },
  {
   "cell_type": "code",
   "execution_count": 3,
   "metadata": {},
   "outputs": [],
   "source": [
    "@app.route(\"/\")\n",
    "def index():\n",
    "    # return the rendered template\n",
    "    return render_template(\"index.html\")"
   ]
  },
  {
   "cell_type": "code",
   "execution_count": 4,
   "metadata": {},
   "outputs": [],
   "source": [
    "def detect_motion(frameCount):\n",
    "    # grab global references to the video stream, output frame, and\n",
    "    # lock variables\n",
    "    global vs, outputFrame, lock\n",
    "    # initialize the motion detector and the total number of frames\n",
    "    # read thus far\n",
    "    while True:\n",
    "        # read the next frame from the video stream, resize it,\n",
    "        # convert the frame to grayscale, and blur it\n",
    "        frame = vs.read()\n",
    "        frame = imutils.resize(frame, width=400)\n",
    "        gray = cv2.cvtColor(frame, cv2.COLOR_BGR2GRAY)\n",
    "        gray = cv2.GaussianBlur(gray, (7, 7), 0)\n",
    "        # grab the current timestamp and draw it on the frame\n",
    "        timestamp = datetime.datetime.now()\n",
    "        cv2.putText(frame, timestamp.strftime(\n",
    "            \"%A %d %B %Y %I:%M:%S%p\"), (10, frame.shape[0] - 10),\n",
    "            cv2.FONT_HERSHEY_SIMPLEX, 0.35, (0, 0, 255), 1)\n",
    "        with lock:\n",
    "            outputFrame = frame.copy()"
   ]
  },
  {
   "cell_type": "code",
   "execution_count": 5,
   "metadata": {},
   "outputs": [],
   "source": [
    "def generate():\n",
    "    # grab global references to the output frame and lock variables\n",
    "    global outputFrame, lock\n",
    "    # loop over frames from the output stream\n",
    "    while True:\n",
    "        # wait until the lock is acquired\n",
    "        with lock:\n",
    "            # check if the output frame is available, otherwise skip\n",
    "            # the iteration of the loop\n",
    "            if outputFrame is None:\n",
    "                continue\n",
    "            # encode the frame in JPEG format\n",
    "            (flag, encodedImage) = cv2.imencode(\".jpg\", outputFrame)\n",
    "            # ensure the frame was successfully encoded\n",
    "            if not flag:\n",
    "                continue\n",
    "        # yield the output frame in the byte format\n",
    "        yield(b'--frame\\r\\n' b'Content-Type: image/jpeg\\r\\n\\r\\n' + \n",
    "            bytearray(encodedImage) + b'\\r\\n')"
   ]
  },
  {
   "cell_type": "code",
   "execution_count": 6,
   "metadata": {},
   "outputs": [],
   "source": [
    "@app.route(\"/video_feed\")\n",
    "def video_feed():\n",
    "    # return the response generated along with the specific media\n",
    "    # type (mime type)\n",
    "    return Response(generate(),\n",
    "        mimetype = \"multipart/x-mixed-replace; boundary=frame\")"
   ]
  },
  {
   "cell_type": "code",
   "execution_count": 7,
   "metadata": {},
   "outputs": [
    {
     "name": "stdout",
     "output_type": "stream",
     "text": [
      " * Serving Flask app \"__main__\" (lazy loading)\n",
      " * Environment: production\n",
      "\u001b[31m   WARNING: This is a development server. Do not use it in a production deployment.\u001b[0m\n",
      "\u001b[2m   Use a production WSGI server instead.\u001b[0m\n",
      " * Debug mode: on\n"
     ]
    },
    {
     "name": "stderr",
     "output_type": "stream",
     "text": [
      " * Running on http://0.0.0.0:5000/ (Press CTRL+C to quit)\n",
      "127.0.0.1 - - [18/Dec/2020 00:40:43] \"\u001b[37mGET / HTTP/1.1\u001b[0m\" 200 -\n",
      "127.0.0.1 - - [18/Dec/2020 00:40:43] \"\u001b[37mGET /video_feed HTTP/1.1\u001b[0m\" 200 -\n"
     ]
    }
   ],
   "source": [
    "if __name__ == '__main__':\n",
    "    t = threading.Thread(target=detect_motion, args=(100,))\n",
    "    t.daemon = True\n",
    "    t.start()\n",
    "    # start the flask app\n",
    "    app.run(host='0.0.0.0', port=5000, debug=True,\n",
    "        threaded=True, use_reloader=False)"
   ]
  },
  {
   "cell_type": "code",
   "execution_count": 8,
   "metadata": {},
   "outputs": [],
   "source": [
    "# release the video stream pointer\n",
    "vs.stop()\n",
    "cv2.destroyAllWindows()"
   ]
  },
  {
   "cell_type": "code",
   "execution_count": null,
   "metadata": {},
   "outputs": [],
   "source": []
  }
 ],
 "metadata": {
  "kernelspec": {
   "display_name": "Python 3",
   "language": "python",
   "name": "python3"
  },
  "language_info": {
   "codemirror_mode": {
    "name": "ipython",
    "version": 3
   },
   "file_extension": ".py",
   "mimetype": "text/x-python",
   "name": "python",
   "nbconvert_exporter": "python",
   "pygments_lexer": "ipython3",
   "version": "3.7.7"
  }
 },
 "nbformat": 4,
 "nbformat_minor": 4
}
