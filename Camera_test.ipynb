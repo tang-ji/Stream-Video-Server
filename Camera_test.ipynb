{
 "cells": [
  {
   "cell_type": "code",
   "execution_count": 1,
   "metadata": {},
   "outputs": [],
   "source": [
    "from imutils.video import VideoStream\n",
    "from flask import Response, Flask, render_template\n",
    "import threading, datetime, imutils, time, cv2\n",
    "import numpy as np"
   ]
  },
  {
   "cell_type": "code",
   "execution_count": 2,
   "metadata": {},
   "outputs": [],
   "source": [
    "outputFrame = None\n",
    "lock = threading.Lock()\n",
    "app = Flask(__name__)\n",
    "\n",
    "# vs = VideoStream(usePiCamera=1).start()\n",
    "vs = VideoStream(src=0).start()\n",
    "time.sleep(2.0)"
   ]
  },
  {
   "cell_type": "code",
   "execution_count": 3,
   "metadata": {},
   "outputs": [],
   "source": [
    "@app.route(\"/\")\n",
    "def index():\n",
    "    # return the rendered template\n",
    "    return render_template(\"index.html\")"
   ]
  },
  {
   "cell_type": "code",
   "execution_count": 4,
   "metadata": {},
   "outputs": [],
   "source": [
    "class SingleMotionDetector:\n",
    "    def __init__(self, accumWeight=0.5):\n",
    "        # store the accumulated weight factor\n",
    "        self.accumWeight = accumWeight\n",
    "        # initialize the background model\n",
    "        self.bg = None\n",
    "    def update(self, image):\n",
    "        # if the background model is None, initialize it\n",
    "        if self.bg is None:\n",
    "            self.bg = image.copy().astype(\"float\")\n",
    "            return\n",
    "        # update the background model by accumulating the weighted\n",
    "        # average\n",
    "        cv2.accumulateWeighted(image, self.bg, self.accumWeight)\n",
    "    def detect(self, image, tVal=25):\n",
    "        # compute the absolute difference between the background model\n",
    "        # and the image passed in, then threshold the delta image\n",
    "        delta = cv2.absdiff(self.bg.astype(\"uint8\"), image)\n",
    "        thresh = cv2.threshold(delta, tVal, 255, cv2.THRESH_BINARY)[1]\n",
    "        # perform a series of erosions and dilations to remove small\n",
    "        # blobs\n",
    "        thresh = cv2.erode(thresh, None, iterations=2)\n",
    "        thresh = cv2.dilate(thresh, None, iterations=2)\n",
    "        # find contours in the thresholded image and initialize the\n",
    "        # minimum and maximum bounding box regions for motion\n",
    "        cnts = cv2.findContours(thresh.copy(), cv2.RETR_EXTERNAL,\n",
    "            cv2.CHAIN_APPROX_SIMPLE)\n",
    "        cnts = imutils.grab_contours(cnts)\n",
    "        (minX, minY) = (np.inf, np.inf)\n",
    "        (maxX, maxY) = (-np.inf, -np.inf)\n",
    "        # if no contours were found, return None\n",
    "        if len(cnts) == 0:\n",
    "            return None\n",
    "        # otherwise, loop over the contours\n",
    "        for c in cnts:\n",
    "            # compute the bounding box of the contour and use it to\n",
    "            # update the minimum and maximum bounding box regions\n",
    "            (x, y, w, h) = cv2.boundingRect(c)\n",
    "            (minX, minY) = (min(minX, x), min(minY, y))\n",
    "            (maxX, maxY) = (max(maxX, x + w), max(maxY, y + h))\n",
    "        # otherwise, return a tuple of the thresholded image along\n",
    "        # with bounding box\n",
    "        return (thresh, (minX, minY, maxX, maxY))"
   ]
  },
  {
   "cell_type": "code",
   "execution_count": 5,
   "metadata": {},
   "outputs": [],
   "source": [
    "def detect_motion(frameCount):\n",
    "    # grab global references to the video stream, output frame, and\n",
    "    # lock variables\n",
    "    global vs, outputFrame, lock\n",
    "    # initialize the motion detector and the total number of frames\n",
    "    # read thus far\n",
    "    md = SingleMotionDetector(accumWeight=0.1)\n",
    "    total = 0\n",
    "    while True:\n",
    "        # read the next frame from the video stream, resize it,\n",
    "        # convert the frame to grayscale, and blur it\n",
    "        frame = vs.read()\n",
    "        frame = imutils.resize(frame, width=400)\n",
    "        gray = cv2.cvtColor(frame, cv2.COLOR_BGR2GRAY)\n",
    "        gray = cv2.GaussianBlur(gray, (7, 7), 0)\n",
    "        # grab the current timestamp and draw it on the frame\n",
    "        timestamp = datetime.datetime.now()\n",
    "        cv2.putText(frame, timestamp.strftime(\n",
    "            \"%A %d %B %Y %I:%M:%S%p\"), (10, frame.shape[0] - 10),\n",
    "            cv2.FONT_HERSHEY_SIMPLEX, 0.35, (0, 0, 255), 1)\n",
    "        # if the total number of frames has reached a sufficient\n",
    "        # number to construct a reasonable background model, then\n",
    "        # continue to process the frame\n",
    "        if total > frameCount:\n",
    "            # detect motion in the image\n",
    "            motion = md.detect(gray)\n",
    "            # check to see if motion was found in the frame\n",
    "            if motion is not None:\n",
    "                # unpack the tuple and draw the box surrounding the\n",
    "                # \"motion area\" on the output frame\n",
    "                (thresh, (minX, minY, maxX, maxY)) = motion\n",
    "                cv2.rectangle(frame, (minX, minY), (maxX, maxY),\n",
    "                    (0, 0, 255), 2)\n",
    "\n",
    "        # update the background model and increment the total number\n",
    "        # of frames read thus far\n",
    "        md.update(gray)\n",
    "        total += 1\n",
    "        # acquire the lock, set the output frame, and release the\n",
    "        # lock\n",
    "        with lock:\n",
    "            outputFrame = frame.copy()"
   ]
  },
  {
   "cell_type": "code",
   "execution_count": 6,
   "metadata": {},
   "outputs": [],
   "source": [
    "def generate():\n",
    "    # grab global references to the output frame and lock variables\n",
    "    global outputFrame, lock\n",
    "    # loop over frames from the output stream\n",
    "    while True:\n",
    "        # wait until the lock is acquired\n",
    "        with lock:\n",
    "            # check if the output frame is available, otherwise skip\n",
    "            # the iteration of the loop\n",
    "            if outputFrame is None:\n",
    "                continue\n",
    "            # encode the frame in JPEG format\n",
    "            (flag, encodedImage) = cv2.imencode(\".jpg\", outputFrame)\n",
    "            # ensure the frame was successfully encoded\n",
    "            if not flag:\n",
    "                continue\n",
    "        # yield the output frame in the byte format\n",
    "        yield(b'--frame\\r\\n' b'Content-Type: image/jpeg\\r\\n\\r\\n' + \n",
    "            bytearray(encodedImage) + b'\\r\\n')"
   ]
  },
  {
   "cell_type": "code",
   "execution_count": 7,
   "metadata": {},
   "outputs": [],
   "source": [
    "@app.route(\"/video_feed\")\n",
    "def video_feed():\n",
    "    # return the response generated along with the specific media\n",
    "    # type (mime type)\n",
    "    return Response(generate(),\n",
    "        mimetype = \"multipart/x-mixed-replace; boundary=frame\")"
   ]
  },
  {
   "cell_type": "code",
   "execution_count": 8,
   "metadata": {},
   "outputs": [
    {
     "name": "stdout",
     "output_type": "stream",
     "text": [
      " * Serving Flask app \"__main__\" (lazy loading)\n",
      " * Environment: production\n",
      "\u001b[31m   WARNING: This is a development server. Do not use it in a production deployment.\u001b[0m\n",
      "\u001b[2m   Use a production WSGI server instead.\u001b[0m\n",
      " * Debug mode: on\n"
     ]
    },
    {
     "name": "stderr",
     "output_type": "stream",
     "text": [
      " * Running on http://0.0.0.0:5000/ (Press CTRL+C to quit)\n",
      "127.0.0.1 - - [17/Dec/2020 16:27:12] \"\u001b[37mGET / HTTP/1.1\u001b[0m\" 200 -\n",
      "127.0.0.1 - - [17/Dec/2020 16:27:12] \"\u001b[37mGET /video_feed HTTP/1.1\u001b[0m\" 200 -\n",
      "127.0.0.1 - - [17/Dec/2020 16:27:12] \"\u001b[33mGET /favicon.ico HTTP/1.1\u001b[0m\" 404 -\n"
     ]
    }
   ],
   "source": [
    "if __name__ == '__main__':\n",
    "    t = threading.Thread(target=detect_motion, args=(100,))\n",
    "    t.daemon = True\n",
    "    t.start()\n",
    "    # start the flask app\n",
    "    app.run(host='0.0.0.0', port=5000, debug=True,\n",
    "        threaded=True, use_reloader=False)"
   ]
  },
  {
   "cell_type": "code",
   "execution_count": 11,
   "metadata": {},
   "outputs": [],
   "source": [
    "# release the video stream pointer\n",
    "vs.stop()\n",
    "cv2.destroyAllWindows()"
   ]
  },
  {
   "cell_type": "code",
   "execution_count": null,
   "metadata": {},
   "outputs": [],
   "source": []
  }
 ],
 "metadata": {
  "kernelspec": {
   "display_name": "Python 3",
   "language": "python",
   "name": "python3"
  },
  "language_info": {
   "codemirror_mode": {
    "name": "ipython",
    "version": 3
   },
   "file_extension": ".py",
   "mimetype": "text/x-python",
   "name": "python",
   "nbconvert_exporter": "python",
   "pygments_lexer": "ipython3",
   "version": "3.7.7"
  }
 },
 "nbformat": 4,
 "nbformat_minor": 4
}
